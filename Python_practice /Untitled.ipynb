{
 "cells": [
  {
   "cell_type": "code",
   "execution_count": 7,
   "id": "ee3c1fcf-0039-4b3a-bce4-8911e93149db",
   "metadata": {},
   "outputs": [
    {
     "name": "stdin",
     "output_type": "stream",
     "text": [
      "WHat is your name hitesh\n"
     ]
    },
    {
     "data": {
      "text/plain": [
       "str"
      ]
     },
     "execution_count": 7,
     "metadata": {},
     "output_type": "execute_result"
    }
   ],
   "source": [
    "x=input(\"WHat is your name\")\n",
    "type(x)"
   ]
  },
  {
   "cell_type": "code",
   "execution_count": 17,
   "id": "fe30f0cc-a243-4a24-be0a-7a40856158f0",
   "metadata": {},
   "outputs": [
    {
     "name": "stdin",
     "output_type": "stream",
     "text": [
      " 24\n",
      " 59\n"
     ]
    },
    {
     "name": "stdout",
     "output_type": "stream",
     "text": [
      "hitesh is 24 years old and his father is 59 years old.\n",
      "hitesh is 24 years old and his father is 59 years old.\n",
      "hitesh is 24 years old and his father is 59 years old.\n"
     ]
    }
   ],
   "source": [
    "x=int(input())\n",
    "y=int(input())\n",
    "print(\"hitesh is {a} years old and his father is {b} years old.\".format(a=x,b=y))\n",
    "\n",
    "print(\"hitesh is {a} years old and his father is {b} years old.\".format(a=x,b=y))\n",
    "print(\"hitesh is {} years old and his father is {} years old.\".format(x,y))"
   ]
  },
  {
   "cell_type": "code",
   "execution_count": 19,
   "id": "f7d179e0-cab7-4c2b-9991-0e86720a08fb",
   "metadata": {},
   "outputs": [
    {
     "name": "stdout",
     "output_type": "stream",
     "text": [
      "16\n",
      "26\n",
      "22\n",
      "11.0\n",
      "3.0\n",
      "0.0\n",
      "0.0\n"
     ]
    }
   ],
   "source": [
    "#assignment op\n",
    "x=16\n",
    "print(x)\n",
    "x+=10\n",
    "print(x)\n",
    "x-=4\n",
    "print(x)\n",
    "x/=2\n",
    "print(x)\n",
    "x%=4\n",
    "print(x)\n",
    "x//=12\n",
    "print(x)\n",
    "x**=2\n",
    "print(x)"
   ]
  },
  {
   "cell_type": "code",
   "execution_count": 53,
   "id": "ba3116c0-536f-49e6-a8f5-dffdbb239581",
   "metadata": {},
   "outputs": [
    {
     "name": "stdout",
     "output_type": "stream",
     "text": [
      "9\n",
      "[1, 2, 3]\n",
      "8\n",
      "8\n",
      "4\n",
      "[0, 2, 4, 6]\n",
      "[8, 7, 6, 5, 4, 3, 2, 1, 0]\n",
      "[8, 7, 6, 5, 4, 3, 2]\n",
      "[8, 7, 6, 5, 4, 3, 2, 1, 0, 15]\n",
      "[8, 7, 6, 5, 4, 3, 2, 1, 0, 15, 16, 17]\n",
      "[8, 24, 7, 6, 5, 4, 3, 2, 1, 0, 15, 16, 17]\n",
      "[8, 24, 7, 6, 5, 4, 3, 2, 1, 0, 15, 16]\n",
      "[8, 24, 7, 6, 5, 4, 3, 2, 0, 15, 16]\n",
      "1\n",
      "4\n",
      "None\n",
      "None\n",
      "[24, 16, 15, 8, 7, 6, 5, 4, 3, 2, 0]\n",
      "None\n",
      "[0, 2, 3, 4, 5, 6, 7, 8, 15, 16, 24]\n",
      "11\n"
     ]
    }
   ],
   "source": [
    "lst=[0,1,2,3,4,5,6,7,8]\n",
    "print(len(lst))\n",
    "print(lst[1:4])\n",
    "print(lst[-1])\n",
    "print(lst[len(lst)-1])\n",
    "print(lst[len(lst)-5])\n",
    "print(lst[0:8:2])\n",
    "print(lst[::-1])\n",
    "lst=lst[::-1]\n",
    "print(lst[0:7])\n",
    "lst.append(15)\n",
    "print(lst)\n",
    "lst.extend([16,17])\n",
    "print(lst)\n",
    "lst.insert(1,24)\n",
    "print(lst)\n",
    "lst.pop()\n",
    "print(lst)\n",
    "lst.remove(1)\n",
    "print(lst)\n",
    "print(lst.count(5))\n",
    "#print(lst)\n",
    "print(lst.index(5))\n",
    "#print(lst)\n",
    "print(lst.reverse())\n",
    "#print(lst)\n",
    "print(lst.sort(reverse=True))\n",
    "print(lst)\n",
    "print(lst.sort())\n",
    "print(lst)\n",
    "print(len(lst))\n",
    "#print(lst)\n"
   ]
  },
  {
   "cell_type": "code",
   "execution_count": 197,
   "id": "cb0d9b2b-c3b0-4b45-9eb2-93a471fb33d9",
   "metadata": {},
   "outputs": [
    {
     "name": "stdout",
     "output_type": "stream",
     "text": [
      "HELLO HITESH SANWAL RAM\n",
      "HELLO HITESH SANWAL RAM\n",
      "HELLO_HITESH_SANWAL_RAM\n",
      "['HELLO', 'HITESH', 'SANWAL', 'RAM']\n",
      "['HELLO', 'HITESH', 'SANWAL', 'RAM', 'stay ', 'positive']\n"
     ]
    }
   ],
   "source": [
    "#string\n",
    "a=\"HELLO HITESH SANWAL RAM\"\n",
    "print(a)\n",
    "#print(a[0:23:2])\n",
    "print(a[0:23:])\n",
    "print(a.replace(\" \",\"_\"))\n",
    "x=a.split()\n",
    "print(x)\n",
    "x.extend(['stay ','positive'])\n",
    "print(x)"
   ]
  },
  {
   "cell_type": "code",
   "execution_count": 246,
   "id": "0422c1c0-15dc-4618-80bd-e54ced86c88f",
   "metadata": {},
   "outputs": [
    {
     "name": "stdin",
     "output_type": "stream",
     "text": [
      "enter the value for find factorial  5\n"
     ]
    },
    {
     "name": "stdout",
     "output_type": "stream",
     "text": [
      "the factorial is 120\n"
     ]
    },
    {
     "data": {
      "text/plain": [
       "4"
      ]
     },
     "execution_count": 246,
     "metadata": {},
     "output_type": "execute_result"
    }
   ],
   "source": [
    "# loops\n",
    "#factorial\n",
    "\n",
    "x=int(input(\"enter the value for find factorial \"))\n",
    "for i in range (1 ,x):\n",
    "    x=x*i\n",
    "print(\"the factorial is\",x)\n",
    "def square(x):\n",
    "    y = x**2\n",
    "    return(y)\n",
    "square(2)\n"
   ]
  },
  {
   "cell_type": "code",
   "execution_count": null,
   "id": "80f1d584-9069-4413-8b47-64871f9c0ec7",
   "metadata": {},
   "outputs": [],
   "source": [
    "x= int(input(\"enter a no.:\"))\n",
    "def factorial(x):\n",
    "    if x==1:\n",
    "        return (1)\n",
    "    else:\n",
    "        return (x*fact(x-1))\n",
    "\n"
   ]
  },
  {
   "cell_type": "code",
   "execution_count": null,
   "id": "7cfb77c6-c8c1-4cd5-a8d0-7fe2d53287ba",
   "metadata": {},
   "outputs": [],
   "source": []
  },
  {
   "cell_type": "code",
   "execution_count": 258,
   "id": "0c287b95-04a9-4184-b949-3fad68db3e09",
   "metadata": {},
   "outputs": [
    {
     "name": "stdin",
     "output_type": "stream",
     "text": [
      "enter a value to find factorial 7\n"
     ]
    },
    {
     "name": "stdout",
     "output_type": "stream",
     "text": [
      "\n",
      " 7\n",
      "\n",
      " 14\n",
      "\n",
      " 42\n",
      "\n",
      " 168\n",
      "\n",
      " 840\n",
      "\n",
      " 5040\n"
     ]
    }
   ],
   "source": [
    "x=int(input(\"enter a value to find factorial\" )) \n",
    "def fact(x):\n",
    "    for i in range(1,x):\n",
    "        x=x*i\n",
    "        print(\"\\n\",x)\n",
    "fact(x)        \n"
   ]
  }
 ],
 "metadata": {
  "kernelspec": {
   "display_name": "Python 3 (ipykernel)",
   "language": "python",
   "name": "python3"
  },
  "language_info": {
   "codemirror_mode": {
    "name": "ipython",
    "version": 3
   },
   "file_extension": ".py",
   "mimetype": "text/x-python",
   "name": "python",
   "nbconvert_exporter": "python",
   "pygments_lexer": "ipython3",
   "version": "3.12.4"
  }
 },
 "nbformat": 4,
 "nbformat_minor": 5
}
