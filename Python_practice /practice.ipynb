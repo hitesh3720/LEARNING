{
 "cells": [
  {
   "cell_type": "code",
   "execution_count": 1,
   "id": "4fe38ad3-45ba-4651-b838-dcc9a01a09e7",
   "metadata": {},
   "outputs": [
    {
     "name": "stdout",
     "output_type": "stream",
     "text": [
      "be happy always good for health\n"
     ]
    }
   ],
   "source": [
    "print(\"be happy always good for health\")\n"
   ]
  },
  {
   "cell_type": "code",
   "execution_count": 13,
   "id": "f76fb5fd-fa02-47de-b14d-f323f42ebbd4",
   "metadata": {},
   "outputs": [],
   "source": [
    "def table(num=1):\n",
    "    for i in range(1,11):\n",
    "        print(num ,\"*\",i,\"=\",num*i)\n"
   ]
  },
  {
   "cell_type": "code",
   "execution_count": 17,
   "id": "c9a78740-06d0-48a8-8a59-7832803e021d",
   "metadata": {},
   "outputs": [
    {
     "name": "stdout",
     "output_type": "stream",
     "text": [
      "the table opf 5 is :\n",
      "\n",
      "7 * 1 = 7\n",
      "7 * 2 = 14\n",
      "7 * 3 = 21\n",
      "7 * 4 = 28\n",
      "7 * 5 = 35\n",
      "7 * 6 = 42\n",
      "7 * 7 = 49\n",
      "7 * 8 = 56\n",
      "7 * 9 = 63\n",
      "7 * 10 = 70\n"
     ]
    }
   ],
   "source": [
    "print(\"the table opf 5 is :\\n\")\n",
    "table(7)"
   ]
  },
  {
   "cell_type": "code",
   "execution_count": 49,
   "id": "54860a88-9d05-4517-8300-8565672b79d3",
   "metadata": {},
   "outputs": [
    {
     "data": {
      "text/plain": [
       "5"
      ]
     },
     "execution_count": 49,
     "metadata": {},
     "output_type": "execute_result"
    }
   ],
   "source": [
    "(lambda x,y : x+y)(3,2)"
   ]
  },
  {
   "cell_type": "code",
   "execution_count": 115,
   "id": "e097e1b5-c94d-4589-aa79-b22d4a1506d7",
   "metadata": {},
   "outputs": [
    {
     "data": {
      "text/plain": [
       "[100, 400, 900]"
      ]
     },
     "execution_count": 115,
     "metadata": {},
     "output_type": "execute_result"
    }
   ],
   "source": [
    "lst = [10,20,30]\n",
    "list(map(lambda a:a**2,lst))\n"
   ]
  },
  {
   "cell_type": "code",
   "execution_count": 133,
   "id": "8e7307e5-b502-462e-bf81-9cb0b58fa8ca",
   "metadata": {},
   "outputs": [
    {
     "name": "stdout",
     "output_type": "stream",
     "text": [
      "55\n"
     ]
    },
    {
     "data": {
      "text/plain": [
       "5.5"
      ]
     },
     "execution_count": 133,
     "metadata": {},
     "output_type": "execute_result"
    }
   ],
   "source": [
    "from functools import reduce\n",
    "lst1=[1,2,3,4,5,6,7,8,9,10]\n",
    "total = reduce(lambda x,y:x+y,lst1)\n",
    "print(total)\n",
    "avg = total/len(lst1)\n",
    "avg"
   ]
  },
  {
   "cell_type": "code",
   "execution_count": 125,
   "id": "30e048e8-8e36-4bc0-8315-df5c49e4df19",
   "metadata": {},
   "outputs": [
    {
     "data": {
      "text/plain": [
       "[10, 20, 30, 40, 60]"
      ]
     },
     "execution_count": 125,
     "metadata": {},
     "output_type": "execute_result"
    }
   ],
   "source": [
    "lst2 =[12,10,46,39,20,30,59,40,60]\n",
    "f= filter(lambda a:a%10==0,lst2)\n",
    "list(f)"
   ]
  },
  {
   "cell_type": "code",
   "execution_count": 135,
   "id": "4feafa55-05ab-4258-9e84-96458b845e34",
   "metadata": {},
   "outputs": [
    {
     "data": {
      "text/plain": [
       "[345, 54, 3, 4, 5, 8, 5]"
      ]
     },
     "execution_count": 135,
     "metadata": {},
     "output_type": "execute_result"
    }
   ],
   "source": [
    "lst3=[0,345,0,54,0,3,4,5,0,8,5,0]\n",
    "cln_lst=list(filter(lambda x:x!=0,lst3))\n",
    "cln_lst`"
   ]
  },
  {
   "cell_type": "code",
   "execution_count": 157,
   "id": "ff3bd7bb-4c6b-4927-bdf8-199cc49b7445",
   "metadata": {},
   "outputs": [
    {
     "data": {
      "text/plain": [
       "3"
      ]
     },
     "execution_count": 157,
     "metadata": {},
     "output_type": "execute_result"
    }
   ],
   "source": [
    "min_ele = reduce(lambda x,y: x if x<y else y, cln_lst)\n",
    "min_ele"
   ]
  },
  {
   "cell_type": "code",
   "execution_count": 155,
   "id": "833595dd-0ac1-4d55-bf7e-8d83ec679b1b",
   "metadata": {},
   "outputs": [
    {
     "data": {
      "text/plain": [
       "345"
      ]
     },
     "execution_count": 155,
     "metadata": {},
     "output_type": "execute_result"
    }
   ],
   "source": [
    "max_ele = reduce(lambda x,y: x if x > y else y,cln_lst)\n",
    "max_ele"
   ]
  },
  {
   "cell_type": "code",
   "execution_count": 167,
   "id": "cef4937c-fa7f-4409-aad7-6f8075a12b73",
   "metadata": {},
   "outputs": [
    {
     "name": "stdin",
     "output_type": "stream",
     "text": [
      "factorial of a number: 6\n"
     ]
    },
    {
     "name": "stdout",
     "output_type": "stream",
     "text": [
      "the factorial is : 720\n"
     ]
    }
   ],
   "source": [
    "n=int(input(\"factorial of a number:\"))\n",
    "lst=list(range(1,n+1))\n",
    "lst\n",
    "print(\"the factorial is :\",reduce(lambda x,y:x*y,lst))"
   ]
  },
  {
   "cell_type": "code",
   "execution_count": 205,
   "id": "542deab9-f7cb-4bfb-a421-5202dce72e15",
   "metadata": {},
   "outputs": [
    {
     "name": "stdout",
     "output_type": "stream",
     "text": [
      "[0, 1, 1, 2, 3, 5, 8, 13, 21, 34, 55, 89, 144, 233, 377, 610, 987, 1597, 2584, 4181, 6765, 10946, 17711, 28657, 46368, 75025, 121393, 196418, 317811, 514229, 832040, 1346269, 2178309, 3524578, 5702887, 9227465, 14930352, 24157817, 39088169, 63245986]\n"
     ]
    }
   ],
   "source": [
    "def fibonacci_recursive(n):\n",
    "    if n <= 0:\n",
    "        return []\n",
    "    elif n == 1:\n",
    "        return [0]\n",
    "    elif n == 2:\n",
    "        return [0, 1]\n",
    "    else:\n",
    "        fib_sequence = fibonacci_recursive(n - 1)\n",
    "        fib_sequence.append(fib_sequence[-1] + fib_sequence[-2])\n",
    "        return fib_sequence\n",
    "\n",
    "print(fibonacci_recursive(40))b"
   ]
  },
  {
   "cell_type": "code",
   "execution_count": 209,
   "id": "7498806d-a938-42ae-b534-764f5df3e03d",
   "metadata": {},
   "outputs": [
    {
     "data": {
      "text/plain": [
       "[0, 1, 1, 2, 3, 5, 8, 13, 21, 34, 55, 89]"
      ]
     },
     "execution_count": 209,
     "metadata": {},
     "output_type": "execute_result"
    }
   ],
   "source": [
    "def h(n):\n",
    "    if n<=0:\n",
    "        return []\n",
    "    elif n==1:\n",
    "        return [0]\n",
    "    elif n==2:\n",
    "        return [0,1]\n",
    "    else:\n",
    "        fib_sequence = h(n-1)\n",
    "        fib_sequence.append(fib_sequence[-1]+fib_sequence[-2])\n",
    "        return fib_sequence\n",
    "h(12)"
   ]
  },
  {
   "cell_type": "code",
   "execution_count": 229,
   "id": "61922e68-e875-4453-b252-364c005cd53b",
   "metadata": {},
   "outputs": [],
   "source": [
    "from calc import *"
   ]
  },
  {
   "cell_type": "code",
   "execution_count": 227,
   "id": "d93e1375-06a3-47c3-be88-b58fbfe06cce",
   "metadata": {},
   "outputs": [
    {
     "data": {
      "text/plain": [
       "1"
      ]
     },
     "execution_count": 227,
     "metadata": {},
     "output_type": "execute_result"
    }
   ],
   "source": []
  }
 ],
 "metadata": {
  "kernelspec": {
   "display_name": "Python 3 (ipykernel)",
   "language": "python",
   "name": "python3"
  },
  "language_info": {
   "codemirror_mode": {
    "name": "ipython",
    "version": 3
   },
   "file_extension": ".py",
   "mimetype": "text/x-python",
   "name": "python",
   "nbconvert_exporter": "python",
   "pygments_lexer": "ipython3",
   "version": "3.12.4"
  }
 },
 "nbformat": 4,
 "nbformat_minor": 5
}
